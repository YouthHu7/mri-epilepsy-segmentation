{
 "cells": [
  {
   "cell_type": "code",
   "execution_count": 1,
   "metadata": {},
   "outputs": [],
   "source": [
    "import numpy as np\n",
    "import matplotlib.pyplot as plt\n",
    "import torch\n",
    "import torch.nn as nn\n",
    "import torch.nn.functional as F\n",
    "import torch.utils.data as torch_data\n",
    "import os\n",
    "from datetime import datetime\n",
    "import time\n",
    "from IPython import display\n",
    "from tqdm import tqdm\n",
    "\n",
    "%matplotlib inline"
   ]
  },
  {
   "cell_type": "code",
   "execution_count": 2,
   "metadata": {},
   "outputs": [
    {
     "data": {
      "text/plain": [
       "True"
      ]
     },
     "execution_count": 2,
     "metadata": {},
     "output_type": "execute_result"
    }
   ],
   "source": [
    "torch.manual_seed(42)\n",
    "if torch.cuda.is_available():\n",
    "    torch.cuda.manual_seed(42)\n",
    "torch.set_default_tensor_type(torch.FloatTensor)\n",
    "torch.cuda.is_available()"
   ]
  },
  {
   "cell_type": "code",
   "execution_count": 3,
   "metadata": {},
   "outputs": [],
   "source": [
    "class Data(torch.utils.data.Dataset):\n",
    "    def __init__(self, X, domain, y):\n",
    "        super(Data, self).__init__()\n",
    "        self.X = torch.tensor(X, dtype=torch.float32)\n",
    "        self.domain = torch.tensor(domain, dtype = torch.int64)\n",
    "        self.y = torch.tensor(y, dtype=torch.int64)\n",
    "    \n",
    "    def __len__(self):\n",
    "        return self.X.shape[0]\n",
    "    \n",
    "    def __getitem__(self, idx):\n",
    "        return self.X[idx],self.domain[idx], self.y[idx]"
   ]
  },
  {
   "cell_type": "code",
   "execution_count": 4,
   "metadata": {},
   "outputs": [],
   "source": [
    "X_train = np.ones((2,1,192,192,192))\n",
    "domain_train = np.array([2,3,4,5,2,1])\n",
    "y_train = np.array([1,0,1,1,0,0])\n",
    "\n",
    "X_val  = np.ones((1,1,192,192,192))\n",
    "domain_val = np.array([5])\n",
    "y_val = np.array([1])\n",
    "train_dataset = Data(X_train,domain_train, y_train)\n",
    "val_dataset = Data(X_val,domain_val, y_val)\n",
    "\n",
    "batch_size = 2\n",
    "\n",
    "train_loader = torch.utils.data.DataLoader(train_dataset, batch_size=batch_size, shuffle=True)  \n",
    "val_loader = torch.utils.data.DataLoader(val_dataset, batch_size=batch_size, shuffle=False) \n"
   ]
  },
  {
   "cell_type": "code",
   "execution_count": 5,
   "metadata": {},
   "outputs": [],
   "source": [
    "import sys  \n",
    "sys.path.insert(0, './models')\n",
    "from AE_model import AE, Discriminator, Classificator"
   ]
  },
  {
   "cell_type": "code",
   "execution_count": 6,
   "metadata": {},
   "outputs": [],
   "source": [
    "def plot_loss(train_loss,train_loss_disc, val_loss, val_loss_disc):\n",
    "    display.clear_output(wait=True)\n",
    "    fig, ax = plt.subplots(2, 2, figsize=(10, 10))\n",
    "    if train_loss:\n",
    "        ax[0,0].semilogy(train_loss)\n",
    "        ax[0,0].set_title('Training loss')\n",
    "        ax[0,0].set_xlabel('# batches processed')\n",
    "        ax[0,0].set_ylabel('loss value')\n",
    "    if train_loss_disc:\n",
    "        ax[0,1].semilogy(train_loss_disc)\n",
    "        ax[0,1].set_title('Training discriminator loss')\n",
    "        ax[0,1].set_xlabel('# batches processed')\n",
    "        ax[0,1].set_ylabel('loss value')\n",
    "    if val_loss:\n",
    "        ax[1,0].semilogy(val_loss)\n",
    "        ax[1,0].set_title('Validation  loss')\n",
    "        ax[1,0].set_xlabel('# batches processed')\n",
    "        ax[1,0].set_ylabel('loss value')\n",
    "    if val_loss_disc:\n",
    "        ax[1,1].semilogy(val_loss_disc)\n",
    "        ax[1,1].set_title('Validation discriminator loss')\n",
    "        ax[1,1].set_xlabel('# batches processed')\n",
    "        ax[1,1].set_ylabel('loss value')\n",
    "    \n",
    "    plt.show()"
   ]
  },
  {
   "cell_type": "code",
   "execution_count": 7,
   "metadata": {},
   "outputs": [],
   "source": [
    "def adv_loss(y, pred_logits):\n",
    "    global n_domains\n",
    "    global device\n",
    "    y_onehot = torch.zeros((y.shape[0], n_domains), dtype=torch.int32)\n",
    "    y_onehot.scatter_(1, y.view(-1,1), 1)\n",
    "    y_reverse = (1-y_onehot).to(device)\n",
    "    pred_prob = F.log_softmax(pred_logits,dim=1)\n",
    "    return -torch.mean(torch.mul(y_reverse, pred_prob))\n",
    "    del y_onehot, y_reverse, pred_prob\n",
    "\n",
    "def main_loss(pred_logits_clf, y, pred_logits_domain, domain, criterion_enc_clf, lambda_t):\n",
    "    \n",
    "    loss_clf = criterion_enc_clf(pred_logits_clf, y.to(device)) #CrossEntropy loss of classification\n",
    "    loss_adversarial = adv_loss(domain, pred_logits_domain)\n",
    "    return loss_clf + lambda_t*loss_adversarial"
   ]
  },
  {
   "cell_type": "code",
   "execution_count": 8,
   "metadata": {},
   "outputs": [],
   "source": [
    "def train(encoder, disc, clf, criterion_enc_clf, criterion_disc, optimizer_enc_clf, optimizer_disc, \n",
    "        train_loader, val_loader,epochs, disc_loop=1,scheduler=None, exp_name=None,   save_dir=None):\n",
    "    global device\n",
    "    lambda_final = 1e-4\n",
    "    lambda_initial = 0\n",
    "    max_step = 500000\n",
    "    lambda_step = (lambda_final-lambda_initial)/max_step\n",
    "    step = 0\n",
    "    lambda_t = lambda_initial\n",
    "    \n",
    "#     writer = SummaryWriter(f'logs/{exp_name}')\n",
    "    train_loss = [] \n",
    "    train_loss_disc = []\n",
    "    val_loss = []\n",
    "    val_loss_disc = []\n",
    "    \n",
    "    for epoch in range(epochs):\n",
    "        start_time = time.time()\n",
    "\n",
    "        for batch_no, (X, domain, y) in tqdm(enumerate(train_loader), total=len(train_loader)):\n",
    "            '''\n",
    "            X - ground truth image\n",
    "            domain - device\n",
    "            y - epilepsia \n",
    "            '''\n",
    "            X = X.to(device)\n",
    "            \n",
    "            ###train discrimintor\n",
    "            encoder.eval()\n",
    "            for param in encoder.parameters(): #fix encoder parameters to train disc\n",
    "                param.requires_grad = False\n",
    "            disc.train()\n",
    "            for j in range(disc_loop): ### how in GAN do several iterations for discriminator?\n",
    "                optimizer_disc.zero_grad()\n",
    "                pred_logits_domain = disc(encoder(X)[0])\n",
    "                loss_disc = criterion_disc(pred_logits_domain, domain.to(device))#Cross entropy loss, disc learn to pred real domain\n",
    "                loss_disc.backward()\n",
    "                optimizer_disc.step()\n",
    "            for param in encoder.parameters():\n",
    "                param.requires_grad = True\n",
    "            del pred_logits_domain\n",
    "            ###train encoder\n",
    "            encoder.train()\n",
    "            clf.train()\n",
    "            disc.eval()\n",
    "            for param in disc.parameters(): # fix discriminator parameters to train encoder\n",
    "                param.requires_grad = False\n",
    "            \n",
    "            optimizer_enc_clf.zero_grad()\n",
    "            latent, _= encoder(X)\n",
    "            pred_logits_clf = clf(latent)\n",
    "            pred_logits_domain = disc(latent)\n",
    "            loss = main_loss(pred_logits_clf,y.to(device), pred_logits_domain, domain, criterion_enc_clf, lambda_t)\n",
    "            loss.backward()\n",
    "            optimizer_enc_clf.step()\n",
    "            for param in disc.parameters():\n",
    "                param.requires_grad = True\n",
    "            del latent, pred_logits_clf, pred_logits_domain\n",
    "            ### increase lambda\n",
    "            step += 1\n",
    "            if step < max_step:\n",
    "                lambda_t += lambda_step\n",
    "                \n",
    "            ###Plot\n",
    "            if batch_no % 10 == 0:\n",
    "                train_loss.append(loss.item())\n",
    "                train_loss_disc.append(loss_disc.item())\n",
    "                plot_loss(train_loss, train_loss_disc,val_loss, val_loss_disc,)\n",
    "                print(f'epoch {epoch} training stage...')\n",
    "#                 writer.add_scalar('train loss', loss.item(), global_step=len(train_loss))\n",
    "#                 writer.add_scalar('train clas loss', loss_disc.item(), global_step=len(train_loss))\n",
    "\n",
    "        \n",
    "        print(f'epoch {epoch} testing stage...')\n",
    "        encoder.eval()\n",
    "        clf.eval()\n",
    "        disc.eval()\n",
    "        with torch.no_grad():\n",
    "            for batch_no, (X, domain, y) in tqdm(enumerate(val_loader), \n",
    "                                                     total=len(val_loader)):\n",
    "               \n",
    "                X = X.to(device)\n",
    "                latent, _= encoder(X)\n",
    "                pred_logits_clf = clf(latent)\n",
    "                pred_logits_domain = disc(latent)\n",
    "                loss_disc = criterion_disc(pred_logits_domain, domain.to(device))\n",
    "                loss = main_loss(pred_logits_clf,y, pred_logits_domain,domain, criterion_enc_clf, lambda_t)\n",
    "                val_loss.append(loss.item())\n",
    "                val_loss_disc.append(loss_disc.item())\n",
    "            del latent, pred_logits_domain, pred_logits_clf\n",
    "#                 writer.add_scalar('val loss', loss.item(), global_step=len(val_loss))\n",
    "#                 writer.add_scalar('val clas loss', loss_disc.item(), global_step=len(val_loss))"
   ]
  },
  {
   "cell_type": "code",
   "execution_count": 9,
   "metadata": {},
   "outputs": [],
   "source": [
    "down_block_kwargs = {\n",
    "    'conv_k': 3,\n",
    "    'conv_pad': 1,\n",
    "    'conv_s': 1,\n",
    "    'maxpool_k': 2,\n",
    "    'maxpool_s': 2,\n",
    "    'batch_norm': True,\n",
    "    'act': 'relu' ##'or l_relu'\n",
    "}\n",
    "up_block_kwargs = {\n",
    "    'up': 'upsample',# or 'transpose_conv'\n",
    "    'scale': 2,\n",
    "    'scale_mode': 'nearest',\n",
    "    'conv_k': 3,\n",
    "    'conv_pad': 1,\n",
    "    'conv_s': 1,\n",
    "    'batch_norm': True,\n",
    "    'act': 'relu' ##'or l_relu'\n",
    "}\n",
    "ae_kwargs ={\n",
    "    'c_in':1,\n",
    "    'is_skip': False,\n",
    "    'deapth': 6,\n",
    "    'c_base': 16,\n",
    "    'inc_size':2,\n",
    "    'reduce_size': False,\n",
    "    'down_block_kwargs': down_block_kwargs,\n",
    "    'up_block_kwargs': up_block_kwargs,\n",
    "}\n",
    "discriminator_kwargs = {\n",
    "    'c_in': 512,\n",
    "    'c_out':1024,\n",
    "    'conv_k': 2,\n",
    "    'conv_s': 2,\n",
    "    'conv_pad': 0,\n",
    "    'l_in': 1024,\n",
    "    'l_out': 512,\n",
    "    'batch_norm': False,\n",
    "    'act': 'l_relu',\n",
    "    'n_domains':20\n",
    "    \n",
    "}\n",
    "classificator_kwargs = {\n",
    "    'c_in': 512,\n",
    "    'c_out':1024,\n",
    "    'conv_k': 2,\n",
    "    'conv_s': 2,\n",
    "    'conv_pad': 0,\n",
    "    'l_in': 1024,\n",
    "    'l_out': 512,\n",
    "    'batch_norm': False,\n",
    "    'act': 'l_relu',\n",
    "    'n_class':2\n",
    "}\n",
    "n_domains = 20\n",
    "encoder = AE(**ae_kwargs).enc\n",
    "disc = Discriminator(**discriminator_kwargs)\n",
    "clf = Classificator(**classificator_kwargs)"
   ]
  },
  {
   "cell_type": "code",
   "execution_count": 10,
   "metadata": {},
   "outputs": [
    {
     "data": {
      "image/png": "[encoded data removed]",
      "text/plain": [
       "<Figure size 720x720 with 4 Axes>"
      ]
     },
     "metadata": {
      "needs_background": "light"
     },
     "output_type": "display_data"
    },
    {
     "name": "stderr",
     "output_type": "stream",
     "text": [
      "100%|████████████████████████████████████████████████████████████████████████████████████| 1/1 [00:01<00:00,  1.68s/it]\n",
      "100%|████████████████████████████████████████████████████████████████████████████████████| 1/1 [00:00<00:00,  6.64it/s]"
     ]
    },
    {
     "name": "stdout",
     "output_type": "stream",
     "text": [
      "epoch 1 training stage...\n",
      "epoch 1 testing stage...\n"
     ]
    },
    {
     "name": "stderr",
     "output_type": "stream",
     "text": [
      "\n"
     ]
    }
   ],
   "source": [
    "device = 'cuda' if torch.cuda.is_available() else 'cpu'\n",
    "\n",
    "encoder.to(device)\n",
    "disc.to(device)\n",
    "clf.to(device)\n",
    "\n",
    "\n",
    "learning_rate_enc = 0.001\n",
    "betas_enc = (0.9,0.999)\n",
    "learning_rate_disc = 0.001\n",
    "betas_disc = (0.9,0.999)\n",
    "\n",
    "criterion_enc_clf = nn.CrossEntropyLoss()\n",
    "criterion_disc = nn.CrossEntropyLoss()\n",
    "\n",
    "optimizer_enc_clf = torch.optim.Adam(list(encoder.parameters()) + list(clf.parameters()), \n",
    "                                     lr=learning_rate_enc, betas=betas_enc)\n",
    "optimizer_disc = torch.optim.Adam(disc.parameters(), lr=learning_rate_disc, betas=betas_disc)\n",
    "\n",
    "train(encoder, disc,clf, criterion_enc_clf, criterion_disc, optimizer_enc_clf, optimizer_disc,\n",
    "        train_loader, val_loader,epochs=2, disc_loop=1)\n",
    "                                     \n"
   ]
  },
  {
   "cell_type": "code",
   "execution_count": null,
   "metadata": {},
   "outputs": [],
   "source": []
  }
 ],
 "metadata": {
  "kernelspec": {
   "display_name": "Python 3",
   "language": "python",
   "name": "python3"
  },
  "language_info": {
   "codemirror_mode": {
    "name": "ipython",
    "version": 3
   },
   "file_extension": ".py",
   "mimetype": "text/x-python",
   "name": "python",
   "nbconvert_exporter": "python",
   "pygments_lexer": "ipython3",
   "version": "3.7.3"
  }
 },
 "nbformat": 4,
 "nbformat_minor": 2
}
