{
 "cells": [
  {
   "cell_type": "code",
   "execution_count": 2,
   "metadata": {},
   "outputs": [],
   "source": [
    "import scipy as sp\n",
    "import scipy.misc\n",
    "import matplotlib.pyplot as plt\n",
    "import numpy as np\n",
    "import imageio\n",
    "%matplotlib inline"
   ]
  },
  {
   "cell_type": "code",
   "execution_count": 3,
   "metadata": {},
   "outputs": [],
   "source": [
    "from tqdm import tqdm_notebook, tqdm\n",
    "import torch\n",
    "import torch.nn as nn\n",
    "import torch.nn.functional as F\n",
    "from torch.autograd import Variable\n",
    "from torchvision.models.vgg import vgg11_bn\n",
    "from torch.autograd import Function, Variable\n",
    "import random\n",
    "import numpy as np\n",
    "\n",
    "import sys\n",
    "import os\n",
    "from optparse import OptionParser\n",
    "\n",
    "import torch.backends.cudnn as cudnn\n",
    "from torch import optim\n",
    "import time"
   ]
  },
  {
   "cell_type": "code",
   "execution_count": 4,
   "metadata": {},
   "outputs": [
    {
     "name": "stdout",
     "output_type": "stream",
     "text": [
      "Thu May 14 13:40:30 2020       \n",
      "+-----------------------------------------------------------------------------+\n",
      "| NVIDIA-SMI 440.64.00    Driver Version: 440.64.00    CUDA Version: 10.2     |\n",
      "|-------------------------------+----------------------+----------------------+\n",
      "| GPU  Name        Persistence-M| Bus-Id        Disp.A | Volatile Uncorr. ECC |\n",
      "| Fan  Temp  Perf  Pwr:Usage/Cap|         Memory-Usage | GPU-Util  Compute M. |\n",
      "|===============================+======================+======================|\n",
      "|   0  GeForce GTX 108...  Off  | 00000000:02:00.0 Off |                  N/A |\n",
      "| 21%   20C    P8     9W / 250W |      0MiB / 11178MiB |      0%      Default |\n",
      "+-------------------------------+----------------------+----------------------+\n",
      "                                                                               \n",
      "+-----------------------------------------------------------------------------+\n",
      "| Processes:                                                       GPU Memory |\n",
      "|  GPU       PID   Type   Process name                             Usage      |\n",
      "|=============================================================================|\n",
      "|  No running processes found                                                 |\n",
      "+-----------------------------------------------------------------------------+\n"
     ]
    }
   ],
   "source": [
    "!nvidia-smi"
   ]
  },
  {
   "cell_type": "code",
   "execution_count": 16,
   "metadata": {},
   "outputs": [],
   "source": [
    "def calc_iou(prediction, ground_truth):\n",
    "    n_images = len(prediction)\n",
    "    intersection, union = 0, 0\n",
    "    for i in range(n_images):\n",
    "        intersection += np.logical_and(prediction[i] > 0, ground_truth[i] > 0).astype(np.float32).sum() \n",
    "        union += np.logical_or(prediction[i] > 0, ground_truth[i] > 0).astype(np.float32).sum()\n",
    "    return float(intersection) / union"
   ]
  },
  {
   "cell_type": "code",
   "execution_count": 19,
   "metadata": {},
   "outputs": [],
   "source": [
    "import sys\n",
    "sys.path.append(\"../..\")\n",
    "\n",
    "# import utils \n",
    "from utils.viz_tools import plot_central_cuts\n",
    "from utils.data_loader import MriSegmentation"
   ]
  },
  {
   "cell_type": "code",
   "execution_count": null,
   "metadata": {},
   "outputs": [],
   "source": [
    "def train_net(net,\n",
    "              epochs=5,\n",
    "              batch_size=2,\n",
    "              lr=0.1,\n",
    "              val_percent=0.05,\n",
    "              save_cp=False,\n",
    "              gpu=True,\n",
    "              img_scale=0.5):\n",
    "\n",
    "    dir_img = 'BBBC018_v1_images-fixed/train/'\n",
    "    dir_mask = 'BBBC018_v1_outlines/train/'\n",
    "    dir_checkpoint = 'checkpoints/'\n",
    "\n",
    "    ids = get_ids(dir_img)\n",
    "    ids = split_ids(ids)\n",
    "\n",
    "    iddataset = split_train_val(ids, val_percent)\n",
    "\n",
    "    print('''\n",
    "    Starting training:\n",
    "        Epochs: {}\n",
    "        Batch size: {}\n",
    "        Learning rate: {}\n",
    "        Training size: {}\n",
    "        Validation size: {}\n",
    "        Checkpoints: {}\n",
    "        CUDA: {}\n",
    "    '''.format(epochs, batch_size, lr, len(iddataset['train']),\n",
    "               len(iddataset['val']), str(save_cp), str(gpu)))\n",
    "\n",
    "    N_train = len(iddataset['train'])\n",
    "\n",
    "    #optimizer = optim.Adam(net.parameters(), lr=lr)\n",
    "    optimizer = optim.SGD(net.parameters(), lr=lr)\n",
    "\n",
    "    #criterion = nn.BCELoss()\n",
    "\n",
    "    for epoch in range(epochs):\n",
    "        print('Starting epoch {}/{}.'.format(epoch + 1, epochs))\n",
    "        net.train()\n",
    "\n",
    "        # reset the generators\n",
    "        train = get_imgs_and_masks(iddataset['train'], dir_img, dir_mask, img_scale)\n",
    "        val = get_imgs_and_masks(iddataset['val'], dir_img, dir_mask, img_scale)\n",
    "\n",
    "        epoch_loss = 0\n",
    "\n",
    "        for i, b in enumerate(batch(train, batch_size)):\n",
    "            imgs = np.array([i[0] for i in b]).astype(np.float32)\n",
    "            true_masks = np.array([i[1] for i in b])\n",
    "\n",
    "            imgs = torch.from_numpy(imgs)\n",
    "            true_masks = torch.from_numpy(true_masks)\n",
    "\n",
    "            if gpu:\n",
    "                imgs = imgs.to(device)\n",
    "                true_masks = true_masks.to(device)\n",
    "\n",
    "            masks_pred = net(imgs)\n",
    "            masks_probs_flat = masks_pred.view(-1)\n",
    "\n",
    "            true_masks_flat = true_masks.view(-1)\n",
    "            \n",
    "            # print(masks_probs_flat)\n",
    "            # loss = criterion(masks_probs_flat, true_masks_flat)\n",
    "            loss = - 2 * (masks_probs_flat * true_masks_flat).sum() / (true_masks_flat.pow(2).sum() + masks_probs_flat.pow(2).sum())\n",
    "            epoch_loss += loss.item()\n",
    "\n",
    "            print('{0:.4f} --- loss: {1:.6f}'.format(i * batch_size / N_train, loss.item()))\n",
    "\n",
    "            optimizer.zero_grad()\n",
    "            loss.backward()\n",
    "            optimizer.step()\n",
    "\n",
    "        print('Epoch finished ! Loss: {}'.format(epoch_loss / i))\n",
    "\n",
    "        if 1:\n",
    "            val_dice = eval_net(net, val, gpu)\n",
    "            print('Validation Dice Coeff: {}'.format(val_dice))\n",
    "\n",
    "        if save_cp:\n",
    "            torch.save(net.state_dict(),\n",
    "                       dir_checkpoint + 'CP{}.pth'.format(epoch + 1))\n",
    "            print('Checkpoint {} saved !'.format(epoch + 1))"
   ]
  }
 ],
 "metadata": {
  "kernelspec": {
   "display_name": "Python 3",
   "language": "python",
   "name": "python3"
  },
  "language_info": {
   "codemirror_mode": {
    "name": "ipython",
    "version": 3
   },
   "file_extension": ".py",
   "mimetype": "text/x-python",
   "name": "python",
   "nbconvert_exporter": "python",
   "pygments_lexer": "ipython3",
   "version": "3.6.8"
  }
 },
 "nbformat": 4,
 "nbformat_minor": 4
}
